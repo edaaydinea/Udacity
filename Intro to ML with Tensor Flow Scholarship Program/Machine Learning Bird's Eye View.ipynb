{
 "cells": [
  {
   "cell_type": "markdown",
   "metadata": {},
   "source": [
    "# Machine Learning Bird's Eye View\n",
    "\n",
    " This notebook is created By Eda AYDIN through Udacity and Bertlesmann Scholarship Program."
   ]
  },
  {
   "cell_type": "markdown",
   "metadata": {},
   "source": [
    "### Table of Contents\n",
    "\n",
    "* [History - A Statistician's Perspective](1)\n",
    "* [History - A Computer Scientist's Perspective](2)\n",
    "* [Types of Machine Learning - Supervised Learning](3)\n",
    "* [Types of Machine Learning - Unsupervised Learning](4)\n",
    "* [Deep Learning](5)\n",
    "* [Machine Learning Libraries](6)\n",
    "* [Ethics in Machine Learning](7)\n",
    "* [What's Ahead](8)\n",
    "* []"
   ]
  },
  {
   "cell_type": "markdown",
   "metadata": {},
   "source": [
    "### History - A Statistician's Perspective <a name=\"1\"></a>\n",
    "\n",
    "Current uses of machine learning come from the combination of two perspectives. \n",
    "\n",
    "1. **The perspective of statisticians**\n",
    "2. **The perspective of computer scientists**\n",
    "\n",
    "The statisticians perspective has evolved from understanding data. The field of data analysis was originally a field of mathematics based on questions like, how do we better understand the mechanisms that create data? From these questions, probability-based models were used to model the world around us.\n",
    "\n",
    "For example, there's a distribution to model expected scores on a test, number of daily incidence on a stretch of road, or how frequently words show up in a body of text.\n",
    "\n",
    "The derivation of distributions like these were breakthroughs for mechanisms that could create data in the real world. These mathematical functions were used to describe essentially all aspects of our daily lives. But as it turns out, these models are an over-simplification of the complexities that exists in the real world. Often, the probability-based models that were created for a situation did not do a very good job of simulating the actual data observed in the world.\n",
    "\n",
    "<center><img src='picture1.png'></center>"
   ]
  },
  {
   "cell_type": "markdown",
   "metadata": {},
   "source": [
    "### History - A Computer Scientist's Perspective <a name=\"2\"></a>"
   ]
  }
 ],
 "metadata": {
  "interpreter": {
   "hash": "3e4c2e4813921e167345b0bf81ec9cd0de72e66a80ac6627359b483c25bd6ef0"
  },
  "kernelspec": {
   "display_name": "Python 3.9.4 64-bit ('python39': conda)",
   "language": "python",
   "name": "python3"
  },
  "language_info": {
   "codemirror_mode": {
    "name": "ipython",
    "version": 3
   },
   "file_extension": ".py",
   "mimetype": "text/x-python",
   "name": "python",
   "nbconvert_exporter": "python",
   "pygments_lexer": "ipython3",
   "version": "3.9.4"
  },
  "orig_nbformat": 4
 },
 "nbformat": 4,
 "nbformat_minor": 2
}
